{
  "cells": [
    {
      "cell_type": "markdown",
      "source": [
        "Clone the repository"
      ],
      "metadata": {
        "id": "Rj9PSUZqJWyY"
      }
    },
    {
      "cell_type": "code",
      "execution_count": null,
      "metadata": {
        "id": "rg-QDUFZ1eab"
      },
      "outputs": [],
      "source": [
        "!git clone https://github.com/AravindS1506/crowddiff.git"
      ]
    },
    {
      "cell_type": "code",
      "source": [
        "%cd crowddiff"
      ],
      "metadata": {
        "id": "5IyYEn8OD_2O"
      },
      "execution_count": null,
      "outputs": []
    },
    {
      "cell_type": "markdown",
      "source": [
        "For visualization of results run the following script.Output crowd map after kde is stored at fused_kde_realization and density map is stored in density_map_kde"
      ],
      "metadata": {
        "id": "8IFsNUGWR7cr"
      }
    },
    {
      "cell_type": "code",
      "source": [
        "!python kde_sample.py"
      ],
      "metadata": {
        "id": "K2PVoWMMRS7I"
      },
      "execution_count": null,
      "outputs": []
    },
    {
      "cell_type": "markdown",
      "source": [
        "If needed run the below scripts to generate a crowd map from the diffusion model. The following code uses the entire pipeline described in the paper"
      ],
      "metadata": {
        "id": "N717tsL6Xu_W"
      }
    },
    {
      "cell_type": "markdown",
      "source": [
        "Install the requirements, incompatibility issues might appear, but  the required libraries will be installed"
      ],
      "metadata": {
        "id": "KMPAXfhOJg-x"
      }
    },
    {
      "cell_type": "code",
      "execution_count": null,
      "metadata": {
        "collapsed": true,
        "id": "885rVbLJ1tyE"
      },
      "outputs": [],
      "source": [
        "!pip install -r requirements.txt\n"
      ]
    },
    {
      "cell_type": "markdown",
      "source": [
        "Refreshing might default the path to content, so ensure that the base is in the crowddiff folder"
      ],
      "metadata": {
        "id": "mNu-I4i-JkEG"
      }
    },
    {
      "cell_type": "code",
      "source": [
        "%cd crowddiff"
      ],
      "metadata": {
        "id": "JMPHTt74YHBy"
      },
      "execution_count": null,
      "outputs": []
    },
    {
      "cell_type": "markdown",
      "source": [
        "Install mpi4y, this command works in google colab"
      ],
      "metadata": {
        "id": "Jy7sXmFyJrxe"
      }
    },
    {
      "cell_type": "code",
      "execution_count": null,
      "metadata": {
        "collapsed": true,
        "id": "32AoF-CbXdGQ"
      },
      "outputs": [],
      "source": [
        "!apt-get update && apt-get install -y libopenmpi-dev openmpi-bin\n",
        "!pip install mpi4py"
      ]
    },
    {
      "cell_type": "markdown",
      "source": [
        "Preprocess jhu crowd dataset"
      ],
      "metadata": {
        "id": "Jm_6BCnsJx4U"
      }
    },
    {
      "cell_type": "code",
      "execution_count": null,
      "metadata": {
        "collapsed": true,
        "id": "SkChmuVH21v8"
      },
      "outputs": [],
      "source": [
        "!python cc_utils/preprocess_jhu.py --data_dir  dataset --output_dir out_data --dataset jhu_crowd --mode test --image_size 256 --ndevices 1 --sigma '0.5'  --kernel_size '3'"
      ]
    },
    {
      "cell_type": "markdown",
      "source": [
        "Download the model and store it in the model folder"
      ],
      "metadata": {
        "id": "LO8RG1UaJ0bT"
      }
    },
    {
      "cell_type": "code",
      "execution_count": null,
      "metadata": {
        "id": "XfU3z38LUz59"
      },
      "outputs": [],
      "source": [
        "%mkdir model\n",
        "%cd model\n",
        "import gdown\n",
        "\n",
        "# Replace 'YOUR_FILE_ID' with the actual ID from your Google Drive link\n",
        "file_id = '1dLEjaZqw9bxQm2sUU4I6YXDnFfyEHl8p'\n",
        "gdown.download(f'https://drive.google.com/uc?id={file_id}', 'demo.pt', quiet=False)\n",
        "\n",
        "\n",
        "# Replace 'FILE_ID' with the actual ID from your Google Drive link"
      ]
    },
    {
      "cell_type": "markdown",
      "source": [
        "Run the diffusion model code"
      ],
      "metadata": {
        "id": "4Lr6OqlxJ3s9"
      }
    },
    {
      "cell_type": "code",
      "source": [
        "%cd ../\n",
        "%cp -r \"cc_utils\" \"scripts\""
      ],
      "metadata": {
        "id": "nJ2iG3UcJ65l"
      },
      "execution_count": null,
      "outputs": []
    },
    {
      "cell_type": "markdown",
      "source": [
        "Output figures are stored in fused_kde_realization_pipeline.png"
      ],
      "metadata": {
        "id": "G94FnSmBcuD1"
      }
    },
    {
      "cell_type": "code",
      "execution_count": null,
      "metadata": {
        "collapsed": true,
        "id": "2ROPaAjhRwBt"
      },
      "outputs": [],
      "source": [
        "DATA_DIR=\"--data_dir out_data/jhu_crowd/part_1/test/\"\n",
        "LOG_DIR=\"--log_dir results --model_path model/demo.pt\"\n",
        "TRAIN_FLAGS=\"--normalizer 0.8 --pred_channels 1 --batch_size 1 --per_samples 1\"\n",
        "MODEL_FLAGS=\"--attention_resolutions 32,16,8 --class_cond False --diffusion_steps 1000 --large_size 256  --small_size 256 --learn_sigma True --noise_schedule linear --num_channels 192 --num_head_channels 64 --num_res_blocks 2 --resblock_updown True --use_fp16 True --use_checkpoint True\"\n",
        "!CUDA_VISIBLE_DEVICES=0 python scripts/super_res_kde.py $DATA_DIR $LOG_DIR $TRAIN_FLAGS $MODEL_FLAGS"
      ]
    }
  ],
  "metadata": {
    "colab": {
      "provenance": [],
      "gpuType": "T4"
    },
    "kernelspec": {
      "display_name": "Python 3",
      "name": "python3"
    },
    "language_info": {
      "name": "python"
    },
    "accelerator": "GPU"
  },
  "nbformat": 4,
  "nbformat_minor": 0
}